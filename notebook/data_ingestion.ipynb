{
 "cells": [
  {
   "cell_type": "markdown",
   "id": "821082f8-baa1-4eab-9583-c389e50acbb7",
   "metadata": {},
   "source": [
    "# Data Ingestion"
   ]
  },
  {
   "cell_type": "code",
   "execution_count": 1,
   "id": "217887d7-2b3d-460b-9681-2b437c604765",
   "metadata": {},
   "outputs": [],
   "source": [
    "# Importing important libraries\n",
    "import pandas as pd"
   ]
  },
  {
   "cell_type": "markdown",
   "id": "5777cafa-0f60-4352-99ee-ac0d1bb9a9be",
   "metadata": {},
   "source": [
    "# Loading dataset"
   ]
  },
  {
   "cell_type": "code",
   "execution_count": 2,
   "id": "69a4fd63-3273-405e-b006-81326ecf3e33",
   "metadata": {},
   "outputs": [],
   "source": [
    "# Specify the absolute dataset path\n",
    "dataset_path = \"../dataset/ads.csv\""
   ]
  },
  {
   "cell_type": "code",
   "execution_count": 3,
   "id": "33bcebc1-5171-4c45-8698-d6edb88f1962",
   "metadata": {},
   "outputs": [],
   "source": [
    "# import dataset and converting into dataframe to analysis\n",
    "df = pd.read_csv(dataset_path)"
   ]
  },
  {
   "cell_type": "markdown",
   "id": "8cc0b97b-c010-4d02-a259-134cb0726901",
   "metadata": {},
   "source": [
    "# About Dataset\n",
    "\r",
    "This dataset appears to contain data related to advertising expenditures across different mediums (TV, radio, newspaper) and their corresponding sales figures. Here's a breakdown of the columns:\r\n",
    "\r\n",
    "1. **Unnamed: 0**: This column seems to be an index or identifier for each entry in the dataset.\r\n",
    "2. **TV**: This column likely represents the advertising expenditure on TV for each entry.\r\n",
    "3. **Radio**: This column likely represents the advertising expenditure on radio for each entry.\r\n",
    "4. **Newspaper**: This column likely represents the advertising expenditure on newspapers for each entry.\r\n",
    "5. **Sales**: This column represents the sales figures corresponding to each set of advertising expenditures.\r\n",
    "\r\n",
    "Each row in the dataset seems to represent a particular instance where advertising expenditures on TV, radio, and newspapers were made, and the resulting sales figure. \r\n",
    "\r\n",
    "The goal of this dataset might be to analyze the impact of advertising expenditures across different mediums on sales. It could be used for regression analysis or predictive modeling to understand how changes in advertising spending influence sales.\n",
    ":"
   ]
  },
  {
   "cell_type": "markdown",
   "id": "6106a453-b033-40d0-9cfc-1ed5fed8807c",
   "metadata": {},
   "source": [
    "# Data Profiling and Inspection"
   ]
  },
  {
   "cell_type": "markdown",
   "id": "7aa45aac-0aff-4518-a2bc-947e61c33222",
   "metadata": {},
   "source": [
    "## 1. Data Size"
   ]
  },
  {
   "cell_type": "code",
   "execution_count": 4,
   "id": "3b746f79-04a5-49bd-b361-3c2188c316db",
   "metadata": {},
   "outputs": [
    {
     "data": {
      "text/plain": [
       "(200, 5)"
      ]
     },
     "execution_count": 4,
     "metadata": {},
     "output_type": "execute_result"
    }
   ],
   "source": [
    "df.shape"
   ]
  },
  {
   "cell_type": "markdown",
   "id": "637fce49-efa2-4f2e-9f1a-29fa8b036397",
   "metadata": {},
   "source": [
    "* This indicates that this dataset consists of two dimensions, comprising a total of 200 rows and 5 columns."
   ]
  },
  {
   "cell_type": "markdown",
   "id": "a98e067e-d6e6-4666-9364-98404514b382",
   "metadata": {},
   "source": [
    "## 2. Data Preveiw"
   ]
  },
  {
   "cell_type": "code",
   "execution_count": 5,
   "id": "4afc3727-ec89-4cf8-937a-fd9dbe755714",
   "metadata": {},
   "outputs": [
    {
     "data": {
      "text/html": [
       "<div>\n",
       "<style scoped>\n",
       "    .dataframe tbody tr th:only-of-type {\n",
       "        vertical-align: middle;\n",
       "    }\n",
       "\n",
       "    .dataframe tbody tr th {\n",
       "        vertical-align: top;\n",
       "    }\n",
       "\n",
       "    .dataframe thead th {\n",
       "        text-align: right;\n",
       "    }\n",
       "</style>\n",
       "<table border=\"1\" class=\"dataframe\">\n",
       "  <thead>\n",
       "    <tr style=\"text-align: right;\">\n",
       "      <th></th>\n",
       "      <th>Unnamed: 0</th>\n",
       "      <th>TV</th>\n",
       "      <th>radio</th>\n",
       "      <th>newspaper</th>\n",
       "      <th>sales</th>\n",
       "    </tr>\n",
       "  </thead>\n",
       "  <tbody>\n",
       "    <tr>\n",
       "      <th>0</th>\n",
       "      <td>1</td>\n",
       "      <td>230.1</td>\n",
       "      <td>37.8</td>\n",
       "      <td>69.2</td>\n",
       "      <td>22.1</td>\n",
       "    </tr>\n",
       "    <tr>\n",
       "      <th>1</th>\n",
       "      <td>2</td>\n",
       "      <td>44.5</td>\n",
       "      <td>39.3</td>\n",
       "      <td>45.1</td>\n",
       "      <td>10.4</td>\n",
       "    </tr>\n",
       "    <tr>\n",
       "      <th>2</th>\n",
       "      <td>3</td>\n",
       "      <td>17.2</td>\n",
       "      <td>45.9</td>\n",
       "      <td>69.3</td>\n",
       "      <td>9.3</td>\n",
       "    </tr>\n",
       "  </tbody>\n",
       "</table>\n",
       "</div>"
      ],
      "text/plain": [
       "   Unnamed: 0     TV  radio  newspaper  sales\n",
       "0           1  230.1   37.8       69.2   22.1\n",
       "1           2   44.5   39.3       45.1   10.4\n",
       "2           3   17.2   45.9       69.3    9.3"
      ]
     },
     "execution_count": 5,
     "metadata": {},
     "output_type": "execute_result"
    }
   ],
   "source": [
    "# to preview data  .head() or .sample() method is used\n",
    "df.head(3) # retrun first 3 rows of dataset"
   ]
  },
  {
   "cell_type": "code",
   "execution_count": 6,
   "id": "840cfd16-a745-4f5d-b2a2-51525e5b47e1",
   "metadata": {},
   "outputs": [
    {
     "data": {
      "text/html": [
       "<div>\n",
       "<style scoped>\n",
       "    .dataframe tbody tr th:only-of-type {\n",
       "        vertical-align: middle;\n",
       "    }\n",
       "\n",
       "    .dataframe tbody tr th {\n",
       "        vertical-align: top;\n",
       "    }\n",
       "\n",
       "    .dataframe thead th {\n",
       "        text-align: right;\n",
       "    }\n",
       "</style>\n",
       "<table border=\"1\" class=\"dataframe\">\n",
       "  <thead>\n",
       "    <tr style=\"text-align: right;\">\n",
       "      <th></th>\n",
       "      <th>Unnamed: 0</th>\n",
       "      <th>TV</th>\n",
       "      <th>radio</th>\n",
       "      <th>newspaper</th>\n",
       "      <th>sales</th>\n",
       "    </tr>\n",
       "  </thead>\n",
       "  <tbody>\n",
       "    <tr>\n",
       "      <th>83</th>\n",
       "      <td>84</td>\n",
       "      <td>68.4</td>\n",
       "      <td>44.5</td>\n",
       "      <td>35.6</td>\n",
       "      <td>13.6</td>\n",
       "    </tr>\n",
       "    <tr>\n",
       "      <th>154</th>\n",
       "      <td>155</td>\n",
       "      <td>187.8</td>\n",
       "      <td>21.1</td>\n",
       "      <td>9.5</td>\n",
       "      <td>15.6</td>\n",
       "    </tr>\n",
       "    <tr>\n",
       "      <th>186</th>\n",
       "      <td>187</td>\n",
       "      <td>139.5</td>\n",
       "      <td>2.1</td>\n",
       "      <td>26.6</td>\n",
       "      <td>10.3</td>\n",
       "    </tr>\n",
       "  </tbody>\n",
       "</table>\n",
       "</div>"
      ],
      "text/plain": [
       "     Unnamed: 0     TV  radio  newspaper  sales\n",
       "83           84   68.4   44.5       35.6   13.6\n",
       "154         155  187.8   21.1        9.5   15.6\n",
       "186         187  139.5    2.1       26.6   10.3"
      ]
     },
     "execution_count": 6,
     "metadata": {},
     "output_type": "execute_result"
    }
   ],
   "source": [
    "df.sample(3)   # return randomly any 3 rows of dataset"
   ]
  },
  {
   "cell_type": "markdown",
   "id": "27068927-e192-4656-8577-fb24698294f0",
   "metadata": {},
   "source": [
    "# 3. Data types"
   ]
  },
  {
   "cell_type": "code",
   "execution_count": 7,
   "id": "506a680d-7a04-4827-bec7-037212d4a0a2",
   "metadata": {},
   "outputs": [
    {
     "data": {
      "text/plain": [
       "Unnamed: 0      int64\n",
       "TV            float64\n",
       "radio         float64\n",
       "newspaper     float64\n",
       "sales         float64\n",
       "dtype: object"
      ]
     },
     "execution_count": 7,
     "metadata": {},
     "output_type": "execute_result"
    }
   ],
   "source": [
    "# to view the types of data in dataset, .dtypes or .info() is used\n",
    "df.dtypes   # return the datatypes of each columns of dataset only"
   ]
  },
  {
   "cell_type": "code",
   "execution_count": 8,
   "id": "6017a69b-3458-4a77-b82d-5207f3bd0533",
   "metadata": {},
   "outputs": [
    {
     "name": "stdout",
     "output_type": "stream",
     "text": [
      "<class 'pandas.core.frame.DataFrame'>\n",
      "RangeIndex: 200 entries, 0 to 199\n",
      "Data columns (total 5 columns):\n",
      " #   Column      Non-Null Count  Dtype  \n",
      "---  ------      --------------  -----  \n",
      " 0   Unnamed: 0  200 non-null    int64  \n",
      " 1   TV          200 non-null    float64\n",
      " 2   radio       200 non-null    float64\n",
      " 3   newspaper   200 non-null    float64\n",
      " 4   sales       200 non-null    float64\n",
      "dtypes: float64(4), int64(1)\n",
      "memory usage: 7.9 KB\n"
     ]
    }
   ],
   "source": [
    "df.info()   # retrun the overall information of dataset along with data types of each columns in dataset"
   ]
  },
  {
   "cell_type": "markdown",
   "id": "acdce3a5-a752-4eb9-b22f-65baee1f22ca",
   "metadata": {},
   "source": [
    "### Based on the information provided above about the dataset, we can conclude that...\n",
    "* total number of rows/enteries is 200.\n",
    "* total number of columns is 5.\n",
    "* there are one integer data types and four are float types.\n",
    "* TV, radio, newspaper and sales are float data type.\n",
    "* also, all columns has 200 non null that means there is no any missing values."
   ]
  },
  {
   "cell_type": "markdown",
   "id": "8ec97876-fcff-4cc3-bfe6-15158d0055dc",
   "metadata": {},
   "source": [
    "# 4. Missing Values"
   ]
  },
  {
   "cell_type": "code",
   "execution_count": 9,
   "id": "b29d58d3-d414-4f30-8a77-f6a297b2a8d3",
   "metadata": {},
   "outputs": [
    {
     "data": {
      "text/plain": [
       "Unnamed: 0    0\n",
       "TV            0\n",
       "radio         0\n",
       "newspaper     0\n",
       "sales         0\n",
       "dtype: int64"
      ]
     },
     "execution_count": 9,
     "metadata": {},
     "output_type": "execute_result"
    }
   ],
   "source": [
    "# to check missing values .isnull() or .isna() method is used\n",
    "df.isna().sum()"
   ]
  },
  {
   "cell_type": "markdown",
   "id": "6b56d9b8-78e0-4813-9dd3-b683f952aba0",
   "metadata": {},
   "source": [
    "#### As we can see there is no any missing values in this dataset."
   ]
  },
  {
   "cell_type": "markdown",
   "id": "0483ea2e-31e7-41e2-a8e9-55682168a945",
   "metadata": {},
   "source": [
    "# 5. Statistical Overview"
   ]
  },
  {
   "cell_type": "code",
   "execution_count": 10,
   "id": "baad894b-e7d8-414e-9964-f6fb0200867d",
   "metadata": {},
   "outputs": [
    {
     "data": {
      "text/html": [
       "<div>\n",
       "<style scoped>\n",
       "    .dataframe tbody tr th:only-of-type {\n",
       "        vertical-align: middle;\n",
       "    }\n",
       "\n",
       "    .dataframe tbody tr th {\n",
       "        vertical-align: top;\n",
       "    }\n",
       "\n",
       "    .dataframe thead th {\n",
       "        text-align: right;\n",
       "    }\n",
       "</style>\n",
       "<table border=\"1\" class=\"dataframe\">\n",
       "  <thead>\n",
       "    <tr style=\"text-align: right;\">\n",
       "      <th></th>\n",
       "      <th>count</th>\n",
       "      <th>mean</th>\n",
       "      <th>std</th>\n",
       "      <th>min</th>\n",
       "      <th>25%</th>\n",
       "      <th>50%</th>\n",
       "      <th>75%</th>\n",
       "      <th>max</th>\n",
       "    </tr>\n",
       "  </thead>\n",
       "  <tbody>\n",
       "    <tr>\n",
       "      <th>Unnamed: 0</th>\n",
       "      <td>200.0</td>\n",
       "      <td>100.5000</td>\n",
       "      <td>57.879185</td>\n",
       "      <td>1.0</td>\n",
       "      <td>50.750</td>\n",
       "      <td>100.50</td>\n",
       "      <td>150.250</td>\n",
       "      <td>200.0</td>\n",
       "    </tr>\n",
       "    <tr>\n",
       "      <th>TV</th>\n",
       "      <td>200.0</td>\n",
       "      <td>147.0425</td>\n",
       "      <td>85.854236</td>\n",
       "      <td>0.7</td>\n",
       "      <td>74.375</td>\n",
       "      <td>149.75</td>\n",
       "      <td>218.825</td>\n",
       "      <td>296.4</td>\n",
       "    </tr>\n",
       "    <tr>\n",
       "      <th>radio</th>\n",
       "      <td>200.0</td>\n",
       "      <td>23.2640</td>\n",
       "      <td>14.846809</td>\n",
       "      <td>0.0</td>\n",
       "      <td>9.975</td>\n",
       "      <td>22.90</td>\n",
       "      <td>36.525</td>\n",
       "      <td>49.6</td>\n",
       "    </tr>\n",
       "    <tr>\n",
       "      <th>newspaper</th>\n",
       "      <td>200.0</td>\n",
       "      <td>30.5540</td>\n",
       "      <td>21.778621</td>\n",
       "      <td>0.3</td>\n",
       "      <td>12.750</td>\n",
       "      <td>25.75</td>\n",
       "      <td>45.100</td>\n",
       "      <td>114.0</td>\n",
       "    </tr>\n",
       "    <tr>\n",
       "      <th>sales</th>\n",
       "      <td>200.0</td>\n",
       "      <td>14.0225</td>\n",
       "      <td>5.217457</td>\n",
       "      <td>1.6</td>\n",
       "      <td>10.375</td>\n",
       "      <td>12.90</td>\n",
       "      <td>17.400</td>\n",
       "      <td>27.0</td>\n",
       "    </tr>\n",
       "  </tbody>\n",
       "</table>\n",
       "</div>"
      ],
      "text/plain": [
       "            count      mean        std  min     25%     50%      75%    max\n",
       "Unnamed: 0  200.0  100.5000  57.879185  1.0  50.750  100.50  150.250  200.0\n",
       "TV          200.0  147.0425  85.854236  0.7  74.375  149.75  218.825  296.4\n",
       "radio       200.0   23.2640  14.846809  0.0   9.975   22.90   36.525   49.6\n",
       "newspaper   200.0   30.5540  21.778621  0.3  12.750   25.75   45.100  114.0\n",
       "sales       200.0   14.0225   5.217457  1.6  10.375   12.90   17.400   27.0"
      ]
     },
     "execution_count": 10,
     "metadata": {},
     "output_type": "execute_result"
    }
   ],
   "source": [
    "# to overview statistical information .describe() is used\n",
    "df.describe().transpose()"
   ]
  },
  {
   "cell_type": "markdown",
   "id": "3c263ed1-7640-4c62-8f0f-32ea46550dc6",
   "metadata": {},
   "source": [
    "#### Based on the statistical overview provided above about the dataset, we can conclude that...\n",
    "* every columns has same numbers of count.\n",
    "* TV:\n",
    "    1. Tv ads: minimum ads on TV is 0.7 and maximum ads on Tv is 296.4.\n",
    "    2. center tendency mean is 147.0425 with standard deviation is 85.854236.\n",
    "* radio:\n",
    "    1. radia ads: minimum is 0 and maximum is 49.6.\n",
    "    2. mean is 23.2640 and standard deviation is 14.846809.\n",
    "* newspaper:\n",
    "    1. newspaper ads: minimum is 0.3 and maximum is 114.0.\n",
    "    2. mean is 30.5540 and standard deviation is 21.778621.\n",
    "* sales:\n",
    "    1. sales : minimum is 1.6 and maximum is 27.0.\n",
    "    2. mean is 14.0225\t and standard deviation is 5.217457."
   ]
  },
  {
   "cell_type": "markdown",
   "id": "2fc009b8-0c2f-4739-9b50-b51983008aca",
   "metadata": {},
   "source": [
    "# 6. Data Skewness"
   ]
  },
  {
   "cell_type": "code",
   "execution_count": 11,
   "id": "ec1a5feb-d1f4-4edd-b3cc-d2d98bdd1e33",
   "metadata": {},
   "outputs": [
    {
     "data": {
      "text/plain": [
       "Unnamed: 0    0.000000\n",
       "TV           -0.069853\n",
       "radio         0.094175\n",
       "newspaper     0.894720\n",
       "sales         0.407571\n",
       "dtype: float64"
      ]
     },
     "execution_count": 11,
     "metadata": {},
     "output_type": "execute_result"
    }
   ],
   "source": [
    "# to check the skewness of numerical features .skew() method is used\n",
    "df.skew()"
   ]
  },
  {
   "cell_type": "markdown",
   "id": "550ae189-021c-4b4e-881a-076d236cb4c9",
   "metadata": {},
   "source": [
    "#### It's evident that \"TV\" exhibit negative skewness, indicating that their medians surpass their means"
   ]
  },
  {
   "cell_type": "markdown",
   "id": "edca9cb4-61fa-4972-a90e-6552cb77413f",
   "metadata": {},
   "source": [
    "# 7. Correlation Analysis"
   ]
  },
  {
   "cell_type": "code",
   "execution_count": 12,
   "id": "beb20e30-c5ad-48da-9f26-4c1f601f2f12",
   "metadata": {},
   "outputs": [
    {
     "data": {
      "text/html": [
       "<div>\n",
       "<style scoped>\n",
       "    .dataframe tbody tr th:only-of-type {\n",
       "        vertical-align: middle;\n",
       "    }\n",
       "\n",
       "    .dataframe tbody tr th {\n",
       "        vertical-align: top;\n",
       "    }\n",
       "\n",
       "    .dataframe thead th {\n",
       "        text-align: right;\n",
       "    }\n",
       "</style>\n",
       "<table border=\"1\" class=\"dataframe\">\n",
       "  <thead>\n",
       "    <tr style=\"text-align: right;\">\n",
       "      <th></th>\n",
       "      <th>Unnamed: 0</th>\n",
       "      <th>TV</th>\n",
       "      <th>radio</th>\n",
       "      <th>newspaper</th>\n",
       "      <th>sales</th>\n",
       "    </tr>\n",
       "  </thead>\n",
       "  <tbody>\n",
       "    <tr>\n",
       "      <th>Unnamed: 0</th>\n",
       "      <td>1.000000</td>\n",
       "      <td>0.017715</td>\n",
       "      <td>-0.110680</td>\n",
       "      <td>-0.154944</td>\n",
       "      <td>-0.051616</td>\n",
       "    </tr>\n",
       "    <tr>\n",
       "      <th>TV</th>\n",
       "      <td>0.017715</td>\n",
       "      <td>1.000000</td>\n",
       "      <td>0.054809</td>\n",
       "      <td>0.056648</td>\n",
       "      <td>0.782224</td>\n",
       "    </tr>\n",
       "    <tr>\n",
       "      <th>radio</th>\n",
       "      <td>-0.110680</td>\n",
       "      <td>0.054809</td>\n",
       "      <td>1.000000</td>\n",
       "      <td>0.354104</td>\n",
       "      <td>0.576223</td>\n",
       "    </tr>\n",
       "    <tr>\n",
       "      <th>newspaper</th>\n",
       "      <td>-0.154944</td>\n",
       "      <td>0.056648</td>\n",
       "      <td>0.354104</td>\n",
       "      <td>1.000000</td>\n",
       "      <td>0.228299</td>\n",
       "    </tr>\n",
       "    <tr>\n",
       "      <th>sales</th>\n",
       "      <td>-0.051616</td>\n",
       "      <td>0.782224</td>\n",
       "      <td>0.576223</td>\n",
       "      <td>0.228299</td>\n",
       "      <td>1.000000</td>\n",
       "    </tr>\n",
       "  </tbody>\n",
       "</table>\n",
       "</div>"
      ],
      "text/plain": [
       "            Unnamed: 0        TV     radio  newspaper     sales\n",
       "Unnamed: 0    1.000000  0.017715 -0.110680  -0.154944 -0.051616\n",
       "TV            0.017715  1.000000  0.054809   0.056648  0.782224\n",
       "radio        -0.110680  0.054809  1.000000   0.354104  0.576223\n",
       "newspaper    -0.154944  0.056648  0.354104   1.000000  0.228299\n",
       "sales        -0.051616  0.782224  0.576223   0.228299  1.000000"
      ]
     },
     "execution_count": 12,
     "metadata": {},
     "output_type": "execute_result"
    }
   ],
   "source": [
    "# to visualize the correlation of numerical features .corr() method is used\n",
    "df.corr()"
   ]
  },
  {
   "cell_type": "markdown",
   "id": "94501186-4707-4da9-8049-f19ace7181cb",
   "metadata": {},
   "source": [
    "#### From the statistical summary of the dataset, we can deduce that...\n",
    "* TV, radio and newspaper shows a strong correlation with the sales, with a correlation coefficient of 0.782224, 0.576223 and 0.228299"
   ]
  },
  {
   "cell_type": "markdown",
   "id": "5f2ed44a-e409-48e2-bc6e-6e468b72199e",
   "metadata": {},
   "source": [
    "# 8. Data Duplication"
   ]
  },
  {
   "cell_type": "code",
   "execution_count": 13,
   "id": "ec029e53-7543-4446-94ef-4232a448654c",
   "metadata": {},
   "outputs": [
    {
     "data": {
      "text/plain": [
       "0"
      ]
     },
     "execution_count": 13,
     "metadata": {},
     "output_type": "execute_result"
    }
   ],
   "source": [
    "# to check duplication value .duplicated() is used\n",
    "df.duplicated().sum()"
   ]
  },
  {
   "cell_type": "markdown",
   "id": "42e28b7d-be23-4ddf-a35c-1c1da1303465",
   "metadata": {},
   "source": [
    "#### This indicates that there are no duplicate values present in the dataset."
   ]
  }
 ],
 "metadata": {
  "kernelspec": {
   "display_name": "Python 3 (ipykernel)",
   "language": "python",
   "name": "python3"
  },
  "language_info": {
   "codemirror_mode": {
    "name": "ipython",
    "version": 3
   },
   "file_extension": ".py",
   "mimetype": "text/x-python",
   "name": "python",
   "nbconvert_exporter": "python",
   "pygments_lexer": "ipython3",
   "version": "3.11.1"
  }
 },
 "nbformat": 4,
 "nbformat_minor": 5
}

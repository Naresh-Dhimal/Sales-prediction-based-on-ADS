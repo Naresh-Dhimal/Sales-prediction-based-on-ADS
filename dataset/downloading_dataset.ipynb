{
 "cells": [
  {
   "cell_type": "markdown",
   "id": "bc7d6ccf-8337-43a0-85f0-03342ee28de2",
   "metadata": {},
   "source": [
    "## Downloading Dataset"
   ]
  },
  {
   "cell_type": "code",
   "execution_count": 3,
   "id": "833efabb-72dd-4844-bada-c6a599f752df",
   "metadata": {},
   "outputs": [
    {
     "name": "stderr",
     "output_type": "stream",
     "text": [
      "Downloading...\n",
      "From: https://drive.google.com/uc?id=1LIRkum4Lnn7ZdToKjnls-bd0MBjPqWmU\n",
      "To: G:\\python\\final project\\Sales Prediction\\dataset\\ads.csv\n",
      "\n",
      "  0%|          | 0.00/4.76k [00:00<?, ?B/s]\n",
      "100%|██████████| 4.76k/4.76k [00:00<?, ?B/s]\n"
     ]
    }
   ],
   "source": [
    "!gdown 1LIRkum4Lnn7ZdToKjnls-bd0MBjPqWmU"
   ]
  },
  {
   "cell_type": "code",
   "execution_count": null,
   "id": "aefbe7b7-a302-436b-a2b2-5cb0d461739f",
   "metadata": {},
   "outputs": [],
   "source": []
  }
 ],
 "metadata": {
  "kernelspec": {
   "display_name": "Python 3 (ipykernel)",
   "language": "python",
   "name": "python3"
  },
  "language_info": {
   "codemirror_mode": {
    "name": "ipython",
    "version": 3
   },
   "file_extension": ".py",
   "mimetype": "text/x-python",
   "name": "python",
   "nbconvert_exporter": "python",
   "pygments_lexer": "ipython3",
   "version": "3.11.1"
  }
 },
 "nbformat": 4,
 "nbformat_minor": 5
}
